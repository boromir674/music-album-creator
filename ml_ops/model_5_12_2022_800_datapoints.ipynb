{
 "cells": [
  {
   "cell_type": "code",
   "execution_count": 1,
   "id": "e7806fd2",
   "metadata": {},
   "outputs": [],
   "source": [
    "import sklearn\n",
    "import music_album_creation as mac\n",
    "import numpy as np\n",
    "import matplotlib.pyplot as plt"
   ]
  },
  {
   "cell_type": "code",
   "execution_count": 2,
   "id": "acfc2334",
   "metadata": {},
   "outputs": [],
   "source": [
    "FC = mac.format_classification.FormatClassifier"
   ]
  },
  {
   "cell_type": "code",
   "execution_count": 3,
   "id": "12bb6453",
   "metadata": {},
   "outputs": [],
   "source": [
    "music_dir = '/data/music/m/'"
   ]
  },
  {
   "cell_type": "code",
   "execution_count": 6,
   "id": "11812a70",
   "metadata": {},
   "outputs": [],
   "source": [
    "# Compute a Dataset at runtime from the music library given\n",
    "music_library = '/data/music/m'\n",
    "\n",
    "# set datapoints_flag = None to indicate to train\n",
    "# on all avaivalable datapoints (ie no test/train/dev splits)\n",
    "datapoints_flag = None\n",
    "\n",
    "# Infer a new Linear Support Vector Classifier\n",
    "model = FC.infer_new(nb_datapoints=datapoints_flag, music_library_dir=music_library)\n",
    "#model = FC.infer_new('load', music_library_dir=music_dir)"
   ]
  },
  {
   "cell_type": "code",
   "execution_count": 15,
   "id": "d2b3ff84",
   "metadata": {},
   "outputs": [],
   "source": [
    "model.x_y_train_set is not None\n",
    "X, y = model.x_y_train_set"
   ]
  },
  {
   "cell_type": "code",
   "execution_count": 16,
   "id": "0fcff5ad",
   "metadata": {},
   "outputs": [],
   "source": [
    "# Save model to be commited to version control\n",
    "model.save('src/music_album_creation/format_classification/data/model.pickle')"
   ]
  },
  {
   "cell_type": "code",
   "execution_count": 8,
   "id": "45557ce2",
   "metadata": {},
   "outputs": [
    {
     "data": {
      "text/plain": [
       "[[286.1066666666667],\n",
       " [0],\n",
       " [529.2329931972789],\n",
       " [0],\n",
       " [1035.9902040816326],\n",
       " [0],\n",
       " [329.07861678004537],\n",
       " [0],\n",
       " [341.6555102040816],\n",
       " [0]]"
      ]
     },
     "execution_count": 8,
     "metadata": {},
     "output_type": "execute_result"
    }
   ],
   "source": [
    "X[:10]"
   ]
  },
  {
   "cell_type": "code",
   "execution_count": 9,
   "id": "d46c0aa0",
   "metadata": {},
   "outputs": [
    {
     "name": "stdout",
     "output_type": "stream",
     "text": [
      "[1 1 1 1 1 1 1 1]\n",
      "[1 1 1 1 1 1 1]\n",
      "[0]\n",
      "[0 1 1 1 1 1 1]\n"
     ]
    }
   ],
   "source": [
    "# predict by giving input in seconds\n",
    "SONG_DURS = [[60], [120], [180], [240], [300], [360], [420], [480]]\n",
    "\n",
    "# Labels:\n",
    "# 0 : Timestamp input\n",
    "# 1 : Duration input\n",
    "# expect to predict a durations\n",
    "# expect all ones as predictions since all input are valid song durations\n",
    "print(model.predict(SONG_DURS))\n",
    "\n",
    "# expect to predict a durations\n",
    "# expect all ones as predictions since all input are valid song durations\n",
    "INPUT = [[1], [2], [3], [4], [5], [6], [7]]\n",
    "print(model.predict(INPUT))\n",
    "\n",
    "# expect to predict a timestamp\n",
    "# expect to get a 0\n",
    "print(model.predict([[0]]))\n",
    "\n",
    "# evidence that model is stupid ...\n",
    "INPUT = [[0], [240], [480], [960], [1200], [1440], [1680]]\n",
    "print(model.predict(INPUT))\n"
   ]
  },
  {
   "cell_type": "code",
   "execution_count": 14,
   "id": "09e396a7",
   "metadata": {},
   "outputs": [
    {
     "name": "stdout",
     "output_type": "stream",
     "text": [
      "806 <class 'list'> [286.1066666666667] [0] [150.0212244897959]\n",
      "806 <class 'list'> 1 0 1\n",
      "806 <class 'numpy.ndarray'> (806, 1) [286.10666667] [0.] [150.02122449]\n",
      "806 <class 'numpy.ndarray'> (806,) 1 0 1\n"
     ]
    }
   ],
   "source": [
    "print(len(X), type(X), X[0], X[1], X[10])\n",
    "print(len(y), type(y), y[0], y[1], y[10])\n",
    "X = np.array(X)\n",
    "y = np.array(y)\n",
    "\n",
    "print(len(X), type(X), X.shape, X[0], X[1], X[10])\n",
    "print(len(y), type(y), y.shape, y[0], y[1], y[10])\n"
   ]
  },
  {
   "cell_type": "code",
   "execution_count": null,
   "id": "89d5c1ed",
   "metadata": {},
   "outputs": [],
   "source": [
    "print(len(X), type(X), X[0], X[1], X[10])\n",
    "print(len(y), type(y), y[0], y[1], y[10])\n",
    "X = np.array(X)\n",
    "y = np.array(y)\n",
    "\n",
    "print(len(X), type(X), X.shape, X[0], X[1], X[10])\n",
    "print(len(y), type(y), y.shape, y[0], y[1], y[10])\n",
    "\n",
    "from sklearn.datasets import make_blobs\n",
    "\n",
    "Xn, yn = make_blobs(n_samples=40, centers=2, random_state=0)\n",
    "print(Xn.shape, yn.shape)"
   ]
  },
  {
   "cell_type": "code",
   "execution_count": 7,
   "id": "a74a5149",
   "metadata": {},
   "outputs": [
    {
     "data": {
      "text/plain": [
       "<Figure size 1000x500 with 0 Axes>"
      ]
     },
     "execution_count": 7,
     "metadata": {},
     "output_type": "execute_result"
    },
    {
     "data": {
      "text/plain": [
       "<Figure size 1000x500 with 0 Axes>"
      ]
     },
     "metadata": {},
     "output_type": "display_data"
    }
   ],
   "source": [
    "plt.figure(figsize=(10, 5))"
   ]
  },
  {
   "cell_type": "code",
   "execution_count": 10,
   "id": "43b4e9c5",
   "metadata": {
    "scrolled": true
   },
   "outputs": [
    {
     "ename": "TypeError",
     "evalue": "only integer scalar arrays can be converted to a scalar index",
     "output_type": "error",
     "traceback": [
      "\u001b[0;31m---------------------------------------------------------------------------\u001b[0m",
      "\u001b[0;31mTypeError\u001b[0m                                 Traceback (most recent call last)",
      "Cell \u001b[0;32mIn[10], line 23\u001b[0m\n\u001b[1;32m     21\u001b[0m     support_vector_indices \u001b[38;5;241m=\u001b[39m np\u001b[38;5;241m.\u001b[39mwhere(np\u001b[38;5;241m.\u001b[39mabs(decision_function) \u001b[38;5;241m<\u001b[39m\u001b[38;5;241m=\u001b[39m \u001b[38;5;241m1\u001b[39m \u001b[38;5;241m+\u001b[39m \u001b[38;5;241m1e-15\u001b[39m)[\u001b[38;5;241m0\u001b[39m]\n\u001b[1;32m     22\u001b[0m \u001b[38;5;66;03m#     print(support_vector_indices)\u001b[39;00m\n\u001b[0;32m---> 23\u001b[0m     support_vectors \u001b[38;5;241m=\u001b[39m \u001b[43mX\u001b[49m\u001b[43m[\u001b[49m\u001b[43msupport_vector_indices\u001b[49m\u001b[43m]\u001b[49m\n\u001b[1;32m     25\u001b[0m     plt\u001b[38;5;241m.\u001b[39msubplot(\u001b[38;5;241m1\u001b[39m, \u001b[38;5;241m2\u001b[39m, i \u001b[38;5;241m+\u001b[39m \u001b[38;5;241m1\u001b[39m)\n\u001b[1;32m     26\u001b[0m \u001b[38;5;66;03m#     plt.scatter(X[:, 0], X[:, 1], c=y, s=30, cmap=plt.cm.Paired)\u001b[39;00m\n",
      "\u001b[0;31mTypeError\u001b[0m: only integer scalar arrays can be converted to a scalar index"
     ]
    },
    {
     "data": {
      "text/plain": [
       "<Figure size 1000x500 with 0 Axes>"
      ]
     },
     "metadata": {},
     "output_type": "display_data"
    }
   ],
   "source": [
    "import numpy as np\n",
    "import matplotlib.pyplot as plt\n",
    "# from sklearn.datasets import make_blobs\n",
    "from sklearn.svm import LinearSVC\n",
    "from sklearn.inspection import DecisionBoundaryDisplay\n",
    "\n",
    "# X, y = make_blobs(n_samples=40, centers=2, random_state=0)\n",
    "# X, y = model.x_y_train_set\n",
    "# X = np.array(X)\n",
    "plt.figure(figsize=(10, 5))\n",
    "\n",
    "for i, C in enumerate([1, 100]):\n",
    "    # \"hinge\" is the standard SVM loss\n",
    "    sk_model = model._estimator\n",
    "    # obtain the support vectors through the decision function\n",
    "    decision_function = sk_model.decision_function(X)\n",
    "    # we can also calculate the decision function manually\n",
    "    # decision_function = np.dot(X, clf.coef_[0]) + clf.intercept_[0]\n",
    "    # The support vectors are the samples that lie within the margin\n",
    "    # boundaries, whose size is conventionally constrained to 1\n",
    "    support_vector_indices = np.where(np.abs(decision_function) <= 1 + 1e-15)[0]\n",
    "#     print(support_vector_indices)\n",
    "    support_vectors = X[support_vector_indices]\n",
    "\n",
    "    plt.subplot(1, 2, i + 1)\n",
    "#     plt.scatter(X[:, 0], X[:, 1], c=y, s=30, cmap=plt.cm.Paired)\n",
    "    plt.scatter(X[:, 0], y, c=y, s=30, cmap=plt.cm.Paired)\n",
    "    ax = plt.gca()\n",
    "    DecisionBoundaryDisplay.from_estimator(\n",
    "        sk_model,\n",
    "        X,\n",
    "        ax=ax,\n",
    "        grid_resolution=50,\n",
    "        plot_method=\"contour\",\n",
    "        colors=\"k\",\n",
    "        levels=[-1, 0, 1],\n",
    "        alpha=0.5,\n",
    "        linestyles=[\"--\", \"-\", \"--\"],\n",
    "    )\n",
    "    plt.scatter(\n",
    "        support_vectors[:, 0],\n",
    "        support_vectors[:, 1],\n",
    "        s=100,\n",
    "        linewidth=1,\n",
    "        facecolors=\"none\",\n",
    "        edgecolors=\"k\",\n",
    "    )\n",
    "    plt.title(\"C=\" + str(C))\n",
    "plt.tight_layout()\n",
    "plt.show()"
   ]
  },
  {
   "cell_type": "code",
   "execution_count": 7,
   "id": "9816bc5b",
   "metadata": {},
   "outputs": [
    {
     "data": {
      "text/plain": [
       "[(0, 1), (1, 50)]"
      ]
     },
     "execution_count": 7,
     "metadata": {},
     "output_type": "execute_result"
    }
   ],
   "source": []
  },
  {
   "cell_type": "code",
   "execution_count": null,
   "id": "02ee40ea",
   "metadata": {},
   "outputs": [],
   "source": []
  }
 ],
 "metadata": {
  "kernelspec": {
   "display_name": "Python 3 (ipykernel)",
   "language": "python",
   "name": "python3"
  },
  "language_info": {
   "codemirror_mode": {
    "name": "ipython",
    "version": 3
   },
   "file_extension": ".py",
   "mimetype": "text/x-python",
   "name": "python",
   "nbconvert_exporter": "python",
   "pygments_lexer": "ipython3",
   "version": "3.8.10"
  }
 },
 "nbformat": 4,
 "nbformat_minor": 5
}
